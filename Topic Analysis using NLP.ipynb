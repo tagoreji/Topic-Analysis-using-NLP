{
 "cells": [
  {
   "cell_type": "code",
   "execution_count": 1,
   "id": "dd8ff288",
   "metadata": {},
   "outputs": [],
   "source": [
    "import pandas as pd\n",
    "import string\n",
    "import re\n",
    "from nltk import word_tokenize , sent_tokenize, pos_tag\n",
    "from nltk.corpus import stopwords\n",
    "from nltk.stem import WordNetLemmatizer,SnowballStemmer"
   ]
  },
  {
   "cell_type": "code",
   "execution_count": 2,
   "id": "5af9215d",
   "metadata": {},
   "outputs": [],
   "source": [
    "data = pd.read_csv(\"Pro_1_K8 Reviews v0.2.csv\",encoding= \"utf-8\")"
   ]
  },
  {
   "cell_type": "code",
   "execution_count": 3,
   "id": "b853f6ca",
   "metadata": {},
   "outputs": [
    {
     "data": {
      "text/html": [
       "<div>\n",
       "<style scoped>\n",
       "    .dataframe tbody tr th:only-of-type {\n",
       "        vertical-align: middle;\n",
       "    }\n",
       "\n",
       "    .dataframe tbody tr th {\n",
       "        vertical-align: top;\n",
       "    }\n",
       "\n",
       "    .dataframe thead th {\n",
       "        text-align: right;\n",
       "    }\n",
       "</style>\n",
       "<table border=\"1\" class=\"dataframe\">\n",
       "  <thead>\n",
       "    <tr style=\"text-align: right;\">\n",
       "      <th></th>\n",
       "      <th>sentiment</th>\n",
       "      <th>review</th>\n",
       "    </tr>\n",
       "  </thead>\n",
       "  <tbody>\n",
       "    <tr>\n",
       "      <th>0</th>\n",
       "      <td>1</td>\n",
       "      <td>Good but need updates and improvements</td>\n",
       "    </tr>\n",
       "    <tr>\n",
       "      <th>1</th>\n",
       "      <td>0</td>\n",
       "      <td>Worst mobile i have bought ever, Battery is dr...</td>\n",
       "    </tr>\n",
       "    <tr>\n",
       "      <th>2</th>\n",
       "      <td>1</td>\n",
       "      <td>when I will get my 10% cash back.... its alrea...</td>\n",
       "    </tr>\n",
       "    <tr>\n",
       "      <th>3</th>\n",
       "      <td>1</td>\n",
       "      <td>Good</td>\n",
       "    </tr>\n",
       "    <tr>\n",
       "      <th>4</th>\n",
       "      <td>0</td>\n",
       "      <td>The worst phone everThey have changed the last...</td>\n",
       "    </tr>\n",
       "    <tr>\n",
       "      <th>...</th>\n",
       "      <td>...</td>\n",
       "      <td>...</td>\n",
       "    </tr>\n",
       "    <tr>\n",
       "      <th>14670</th>\n",
       "      <td>1</td>\n",
       "      <td>I really like the phone, Everything is working...</td>\n",
       "    </tr>\n",
       "    <tr>\n",
       "      <th>14671</th>\n",
       "      <td>1</td>\n",
       "      <td>The Lenovo K8 Note is awesome. It takes best p...</td>\n",
       "    </tr>\n",
       "    <tr>\n",
       "      <th>14672</th>\n",
       "      <td>1</td>\n",
       "      <td>Awesome Gaget.. @ this price</td>\n",
       "    </tr>\n",
       "    <tr>\n",
       "      <th>14673</th>\n",
       "      <td>1</td>\n",
       "      <td>This phone is nice processing will be successf...</td>\n",
       "    </tr>\n",
       "    <tr>\n",
       "      <th>14674</th>\n",
       "      <td>1</td>\n",
       "      <td>Good product but the pakeging was not enough.</td>\n",
       "    </tr>\n",
       "  </tbody>\n",
       "</table>\n",
       "<p>14675 rows × 2 columns</p>\n",
       "</div>"
      ],
      "text/plain": [
       "       sentiment                                             review\n",
       "0              1             Good but need updates and improvements\n",
       "1              0  Worst mobile i have bought ever, Battery is dr...\n",
       "2              1  when I will get my 10% cash back.... its alrea...\n",
       "3              1                                               Good\n",
       "4              0  The worst phone everThey have changed the last...\n",
       "...          ...                                                ...\n",
       "14670          1  I really like the phone, Everything is working...\n",
       "14671          1  The Lenovo K8 Note is awesome. It takes best p...\n",
       "14672          1                       Awesome Gaget.. @ this price\n",
       "14673          1  This phone is nice processing will be successf...\n",
       "14674          1      Good product but the pakeging was not enough.\n",
       "\n",
       "[14675 rows x 2 columns]"
      ]
     },
     "execution_count": 3,
     "metadata": {},
     "output_type": "execute_result"
    }
   ],
   "source": [
    "data"
   ]
  },
  {
   "cell_type": "code",
   "execution_count": 4,
   "id": "b21b95c5",
   "metadata": {},
   "outputs": [],
   "source": [
    "reviews = list(review.lower() for review in data[\"review\"].values)"
   ]
  },
  {
   "cell_type": "code",
   "execution_count": 5,
   "id": "e581ea93",
   "metadata": {},
   "outputs": [],
   "source": [
    "def remove_punc(sent):\n",
    "    punc = list(string.punctuation)\n",
    "    for i in punc:\n",
    "        if i in sent:\n",
    "            sent = sent.replace(i,\" \")\n",
    "    if \"\\n\" in sent:\n",
    "        sent = sent.replace(\"\\n\",\" \")\n",
    "    sent = sent.replace(\"\\d*\", \" \")\n",
    "    return sent.strip()    "
   ]
  },
  {
   "cell_type": "code",
   "execution_count": 6,
   "id": "877d2959",
   "metadata": {},
   "outputs": [],
   "source": [
    "def remove_emoji(sent) :\n",
    "    emoji_pattern = re.compile(\"[\"\n",
    "        u\"\\U0001F600-\\U0001F64F\"  # emoticons\n",
    "        u\"\\U0001F300-\\U0001F5FF\"  # symbols & pictographs\n",
    "        u\"\\U0001F680-\\U0001F6FF\"  # transport & map symbols\n",
    "        u\"\\U0001F1E0-\\U0001F1FF\"  # flags (iOS)\n",
    "                           \"]+\", flags=re.UNICODE)\n",
    "    return (emoji_pattern.sub(r'', sent))"
   ]
  },
  {
   "cell_type": "code",
   "execution_count": 7,
   "id": "3a1fb105",
   "metadata": {},
   "outputs": [],
   "source": [
    "stop_words = stopwords.words(\"english\")\n",
    "def remove_stopwords(words):\n",
    "    words = [word for word in words if word not in stop_words]\n",
    "    words = [word for word in words if len(word)>2]\n",
    "    return words   "
   ]
  },
  {
   "cell_type": "code",
   "execution_count": 8,
   "id": "1b7b522e",
   "metadata": {},
   "outputs": [],
   "source": [
    "def lemma(words):\n",
    "    lemma_words = []\n",
    "    lemmatizer = WordNetLemmatizer()\n",
    "    stemmer = SnowballStemmer(\"english\")\n",
    "    for i in words:\n",
    "        l = stemmer.stem(WordNetLemmatizer().lemmatize(i, pos='v'))\n",
    "        lemma_words.append(l)\n",
    "    return lemma_words  "
   ]
  },
  {
   "cell_type": "code",
   "execution_count": 9,
   "id": "0921d35d",
   "metadata": {},
   "outputs": [],
   "source": [
    "def process_text(list_of_docs):\n",
    "    all_words = []\n",
    "    for i in list_of_docs:\n",
    "        sentences = sent_tokenize(i)\n",
    "        temp = []\n",
    "        for sent in sentences:\n",
    "            sent = remove_punc(sent)\n",
    "            sent = remove_emoji(sent)\n",
    "            words = word_tokenize(sent)\n",
    "            words = remove_stopwords(words)\n",
    "            words = lemma(words)\n",
    "            temp.extend(word for word in words)\n",
    "        all_words.append(temp)\n",
    "    return all_words"
   ]
  },
  {
   "cell_type": "code",
   "execution_count": 10,
   "id": "aa166c19",
   "metadata": {},
   "outputs": [],
   "source": [
    "processed_reviews = process_text(reviews)"
   ]
  },
  {
   "cell_type": "code",
   "execution_count": 11,
   "id": "4d887432",
   "metadata": {},
   "outputs": [
    {
     "name": "stdout",
     "output_type": "stream",
     "text": [
      "[['good', 'need', 'updat', 'improv'], ['worst', 'mobil', 'buy', 'ever', 'batteri', 'drain', 'like', 'hell', 'backup', 'hour', 'internet', 'use', 'even', 'put', 'mobil', 'idl', 'get', 'discharg', 'biggest', 'lie', 'amazon', 'lenov', 'expect', 'make', 'full', 'say', 'batteri', '4000mah', 'booster', 'charger', 'fake', 'take', 'least', 'hour', 'fulli', 'charg', 'know', 'lenovo', 'surviv', 'make', 'full', 'pleas', 'els', 'regret', 'like'], ['get', 'cash', 'back', 'alreadi', 'januari']]\n"
     ]
    }
   ],
   "source": [
    "print(processed_reviews[:3])"
   ]
  },
  {
   "cell_type": "code",
   "execution_count": 12,
   "id": "afed2f62",
   "metadata": {},
   "outputs": [],
   "source": [
    "def pos_tags(reviews):\n",
    "    tags = []\n",
    "    tags.extend(list(pos_tag(i) for i in reviews))\n",
    "    return tags"
   ]
  },
  {
   "cell_type": "code",
   "execution_count": 13,
   "id": "6a668309",
   "metadata": {},
   "outputs": [],
   "source": [
    "processed_review_tags = pos_tags(processed_reviews)"
   ]
  },
  {
   "cell_type": "code",
   "execution_count": 14,
   "id": "4b456aee",
   "metadata": {},
   "outputs": [
    {
     "name": "stdout",
     "output_type": "stream",
     "text": [
      "[[('good', 'JJ'), ('need', 'NN'), ('updat', 'NNS'), ('improv', 'VB')], [('worst', 'JJS'), ('mobil', 'NN'), ('buy', 'VB'), ('ever', 'RB'), ('batteri', 'RB'), ('drain', 'VBP'), ('like', 'IN'), ('hell', 'NN'), ('backup', 'IN'), ('hour', 'NN'), ('internet', 'NN'), ('use', 'NN'), ('even', 'RB'), ('put', 'VBD'), ('mobil', 'RP'), ('idl', 'JJ'), ('get', 'NN'), ('discharg', 'JJ'), ('biggest', 'JJS'), ('lie', 'NN'), ('amazon', 'NN'), ('lenov', 'NN'), ('expect', 'VBP'), ('make', 'VBP'), ('full', 'JJ'), ('say', 'VBP'), ('batteri', 'JJ'), ('4000mah', 'CD'), ('booster', 'NN'), ('charger', 'NN'), ('fake', 'VBP'), ('take', 'VB'), ('least', 'JJS'), ('hour', 'NN'), ('fulli', 'JJ'), ('charg', 'NN'), ('know', 'VBP'), ('lenovo', 'VBZ'), ('surviv', 'NNS'), ('make', 'VBP'), ('full', 'JJ'), ('pleas', 'NNS'), ('els', 'VBP'), ('regret', 'NNS'), ('like', 'IN')], [('get', 'VB'), ('cash', 'NN'), ('back', 'RB'), ('alreadi', 'JJ'), ('januari', 'NN')]]\n"
     ]
    }
   ],
   "source": [
    "print(processed_review_tags[:3])"
   ]
  },
  {
   "cell_type": "code",
   "execution_count": 15,
   "id": "6e8e7718",
   "metadata": {},
   "outputs": [],
   "source": [
    "def extract_nouns_(reviews):\n",
    "    noun_tags =[]\n",
    "    for i in reviews:\n",
    "        nouns = []\n",
    "        for tag in i:\n",
    "            if str(tag[1][0])== \"N\":\n",
    "                nouns.append(tag)\n",
    "        noun_tags.append(nouns)   \n",
    "    \n",
    "    return noun_tags"
   ]
  },
  {
   "cell_type": "code",
   "execution_count": 16,
   "id": "75ee3a36",
   "metadata": {},
   "outputs": [],
   "source": [
    "processed_review_nouns = extract_nouns_(processed_review_tags)"
   ]
  },
  {
   "cell_type": "code",
   "execution_count": 17,
   "id": "8b733ff1",
   "metadata": {},
   "outputs": [
    {
     "name": "stdout",
     "output_type": "stream",
     "text": [
      "[[('need', 'NN'), ('updat', 'NNS')], [('mobil', 'NN'), ('hell', 'NN'), ('hour', 'NN'), ('internet', 'NN'), ('use', 'NN'), ('get', 'NN'), ('lie', 'NN'), ('amazon', 'NN'), ('lenov', 'NN'), ('booster', 'NN'), ('charger', 'NN'), ('hour', 'NN'), ('charg', 'NN'), ('surviv', 'NNS'), ('pleas', 'NNS'), ('regret', 'NNS')], [('cash', 'NN'), ('januari', 'NN')], []]\n"
     ]
    }
   ],
   "source": [
    "print(processed_review_nouns[:4])"
   ]
  },
  {
   "cell_type": "code",
   "execution_count": 18,
   "id": "1f3c1119",
   "metadata": {},
   "outputs": [],
   "source": [
    "review_noun_text = []\n",
    "for i in processed_review_nouns:\n",
    "    sent = []\n",
    "    for tag_word in i:\n",
    "        sent.append(tag_word[0])\n",
    "    review_noun_text.append(sent)        "
   ]
  },
  {
   "cell_type": "code",
   "execution_count": 20,
   "id": "2da3deca",
   "metadata": {},
   "outputs": [],
   "source": [
    "import gensim"
   ]
  },
  {
   "cell_type": "code",
   "execution_count": 21,
   "id": "9746f50a",
   "metadata": {},
   "outputs": [],
   "source": [
    "dictionary = gensim.corpora.Dictionary(review_noun_text)"
   ]
  },
  {
   "cell_type": "code",
   "execution_count": 22,
   "id": "425d9d32",
   "metadata": {},
   "outputs": [],
   "source": [
    "dictionary.filter_extremes(no_below=15, no_above=0.1, keep_n= 100000)"
   ]
  },
  {
   "cell_type": "code",
   "execution_count": 23,
   "id": "e1d2c0cd",
   "metadata": {},
   "outputs": [],
   "source": [
    "bow_corpus = [dictionary.doc2bow(doc) for doc in review_noun_text]"
   ]
  },
  {
   "cell_type": "code",
   "execution_count": 24,
   "id": "04bdd6f8",
   "metadata": {},
   "outputs": [],
   "source": [
    "lda_model =  gensim.models.LdaMulticore(bow_corpus, \n",
    "                                   num_topics = 12, \n",
    "                                   id2word = dictionary,                                    \n",
    "                                   passes = 10,\n",
    "                                   workers = 2)"
   ]
  },
  {
   "cell_type": "code",
   "execution_count": 25,
   "id": "f1a01e35",
   "metadata": {},
   "outputs": [
    {
     "name": "stdout",
     "output_type": "stream",
     "text": [
      "Topic: 0 \n",
      "Words: 0.082*\"perform\" + 0.069*\"awesom\" + 0.048*\"game\" + 0.044*\"processor\" + 0.042*\"mode\" + 0.034*\"depth\" + 0.023*\"lag\" + 0.021*\"heavi\" + 0.018*\"backup\" + 0.018*\"play\"\n",
      "\n",
      "\n",
      "Topic: 1 \n",
      "Words: 0.230*\"price\" + 0.088*\"rang\" + 0.053*\"look\" + 0.047*\"superb\" + 0.045*\"budget\" + 0.034*\"amaz\" + 0.027*\"gud\" + 0.026*\"perform\" + 0.016*\"class\" + 0.016*\"littl\"\n",
      "\n",
      "\n",
      "Topic: 2 \n",
      "Words: 0.046*\"thank\" + 0.043*\"deliveri\" + 0.033*\"app\" + 0.030*\"support\" + 0.030*\"avail\" + 0.030*\"headphon\" + 0.027*\"good\" + 0.027*\"miss\" + 0.026*\"amazon\" + 0.025*\"card\"\n",
      "\n",
      "\n",
      "Topic: 3 \n",
      "Words: 0.093*\"use\" + 0.091*\"note\" + 0.033*\"drain\" + 0.029*\"charg\" + 0.022*\"hour\" + 0.021*\"day\" + 0.021*\"lenovo\" + 0.021*\"time\" + 0.019*\"devic\" + 0.018*\"compar\"\n",
      "\n",
      "\n",
      "Topic: 4 \n",
      "Words: 0.073*\"issu\" + 0.051*\"call\" + 0.026*\"day\" + 0.026*\"problem\" + 0.025*\"replac\" + 0.023*\"time\" + 0.023*\"speaker\" + 0.020*\"connect\" + 0.020*\"network\" + 0.019*\"use\"\n",
      "\n",
      "\n",
      "Topic: 5 \n",
      "Words: 0.080*\"amazon\" + 0.062*\"network\" + 0.062*\"return\" + 0.040*\"buy\" + 0.033*\"lenovo\" + 0.031*\"custom\" + 0.025*\"super\" + 0.025*\"servic\" + 0.016*\"issu\" + 0.016*\"day\"\n",
      "\n",
      "\n",
      "Topic: 6 \n",
      "Words: 0.170*\"qualiti\" + 0.109*\"featur\" + 0.061*\"excel\" + 0.045*\"realli\" + 0.027*\"mark\" + 0.025*\"perform\" + 0.022*\"pictur\" + 0.020*\"sound\" + 0.019*\"clariti\" + 0.018*\"backup\"\n",
      "\n",
      "\n",
      "Topic: 7 \n",
      "Words: 0.100*\"charger\" + 0.089*\"lenovo\" + 0.072*\"turbo\" + 0.068*\"charg\" + 0.059*\"screen\" + 0.040*\"cast\" + 0.038*\"experi\" + 0.035*\"note\" + 0.026*\"month\" + 0.018*\"option\"\n",
      "\n",
      "\n",
      "Topic: 8 \n",
      "Words: 0.051*\"sim\" + 0.044*\"day\" + 0.037*\"use\" + 0.032*\"system\" + 0.027*\"volt\" + 0.027*\"note\" + 0.025*\"dolbi\" + 0.024*\"lenovo\" + 0.022*\"get\" + 0.022*\"user\"\n",
      "\n",
      "\n",
      "Topic: 9 \n",
      "Words: 0.166*\"money\" + 0.089*\"backup\" + 0.063*\"wast\" + 0.046*\"valu\" + 0.039*\"life\" + 0.031*\"pleas\" + 0.029*\"sound\" + 0.028*\"averag\" + 0.023*\"need\" + 0.020*\"video\"\n",
      "\n",
      "\n",
      "Topic: 10 \n",
      "Words: 0.059*\"glass\" + 0.056*\"hai\" + 0.053*\"call\" + 0.042*\"love\" + 0.040*\"display\" + 0.039*\"record\" + 0.037*\"screen\" + 0.035*\"gorilla\" + 0.032*\"proper\" + 0.025*\"break\"\n",
      "\n",
      "\n",
      "Topic: 11 \n",
      "Words: 0.221*\"problem\" + 0.146*\"charg\" + 0.068*\"time\" + 0.036*\"hang\" + 0.036*\"hour\" + 0.028*\"drain\" + 0.026*\"issu\" + 0.024*\"face\" + 0.019*\"mani\" + 0.017*\"happi\"\n",
      "\n",
      "\n"
     ]
    }
   ],
   "source": [
    "for idx, topic in lda_model.print_topics(-1):\n",
    "    print(\"Topic: {} \\nWords: {}\".format(idx, topic ))\n",
    "    print(\"\\n\")"
   ]
  },
  {
   "cell_type": "code",
   "execution_count": 26,
   "id": "95439e4e",
   "metadata": {},
   "outputs": [
    {
     "name": "stdout",
     "output_type": "stream",
     "text": [
      "\n",
      "Coherence Score:  0.497730063037914\n"
     ]
    }
   ],
   "source": [
    "from gensim.models import CoherenceModel\n",
    "\n",
    "coherence_model_lda = CoherenceModel(model=lda_model, texts= review_noun_text, dictionary = dictionary, coherence='c_v')\n",
    "coherence_lda = coherence_model_lda.get_coherence()\n",
    "\n",
    "print('\\nCoherence Score: ', coherence_lda)"
   ]
  },
  {
   "cell_type": "code",
   "execution_count": 27,
   "id": "111fa900",
   "metadata": {},
   "outputs": [],
   "source": [
    "coherence = []\n",
    "for k in range(5,25):\n",
    "    lda_model =  gensim.models.LdaMulticore(bow_corpus, \n",
    "                                   num_topics = k, \n",
    "                                   id2word = dictionary,                                    \n",
    "                                   passes = 10,\n",
    "                                   workers = 2)\n",
    "    \n",
    "    cm = CoherenceModel(model=lda_model,texts=review_noun_text,\n",
    "         dictionary=dictionary, coherence='c_v')   \n",
    "                                                \n",
    "    coherence.append((k,cm.get_coherence()))"
   ]
  },
  {
   "cell_type": "code",
   "execution_count": 28,
   "id": "000245cb",
   "metadata": {},
   "outputs": [
    {
     "data": {
      "text/plain": [
       "[<matplotlib.lines.Line2D at 0xf4334fad60>]"
      ]
     },
     "execution_count": 28,
     "metadata": {},
     "output_type": "execute_result"
    },
    {
     "data": {
      "image/png": "[encoded data removed]",
      "text/plain": [
       "<Figure size 432x432 with 1 Axes>"
      ]
     },
     "metadata": {
      "needs_background": "light"
     },
     "output_type": "display_data"
    }
   ],
   "source": [
    "from matplotlib import pyplot as plt\n",
    "plt.figure(figsize= (6,6))\n",
    "topics =[i[0] for i in coherence]\n",
    "coherence_values =[i[1] for i in coherence]\n",
    "plt.plot(topics,coherence_values ,  marker = 'o')"
   ]
  },
  {
   "cell_type": "markdown",
   "id": "9883ff8b",
   "metadata": {},
   "source": [
    "# optical num of topics = 6"
   ]
  },
  {
   "cell_type": "code",
   "execution_count": 29,
   "id": "aeba63ae",
   "metadata": {},
   "outputs": [],
   "source": [
    "lda_model_2 =  gensim.models.LdaMulticore(bow_corpus, \n",
    "                                   num_topics = 6, \n",
    "                                   id2word = dictionary,                                    \n",
    "                                   passes = 10,\n",
    "                                   workers = 2)"
   ]
  },
  {
   "cell_type": "code",
   "execution_count": 30,
   "id": "eb21473c",
   "metadata": {
    "scrolled": false
   },
   "outputs": [
    {
     "name": "stdout",
     "output_type": "stream",
     "text": [
      "Topic: 0 \n",
      "Words: 0.121*\"charg\" + 0.055*\"use\" + 0.046*\"time\" + 0.041*\"hour\" + 0.038*\"day\" + 0.036*\"drain\" + 0.031*\"problem\" + 0.026*\"get\" + 0.024*\"hang\" + 0.021*\"turbo\"\n",
      "\n",
      "\n",
      "Topic: 1 \n",
      "Words: 0.087*\"problem\" + 0.041*\"lenovo\" + 0.040*\"issu\" + 0.031*\"price\" + 0.027*\"amazon\" + 0.026*\"perform\" + 0.026*\"month\" + 0.021*\"buy\" + 0.020*\"servic\" + 0.020*\"day\"\n",
      "\n",
      "\n",
      "Topic: 2 \n",
      "Words: 0.099*\"note\" + 0.052*\"awesom\" + 0.035*\"excel\" + 0.032*\"lenovo\" + 0.025*\"superb\" + 0.023*\"backup\" + 0.023*\"price\" + 0.023*\"featur\" + 0.021*\"compar\" + 0.019*\"budget\"\n",
      "\n",
      "\n",
      "Topic: 3 \n",
      "Words: 0.097*\"money\" + 0.048*\"return\" + 0.037*\"wast\" + 0.032*\"featur\" + 0.028*\"charger\" + 0.027*\"support\" + 0.027*\"valu\" + 0.023*\"cast\" + 0.022*\"box\" + 0.021*\"screen\"\n",
      "\n",
      "\n",
      "Topic: 4 \n",
      "Words: 0.059*\"call\" + 0.029*\"network\" + 0.025*\"record\" + 0.022*\"app\" + 0.021*\"sim\" + 0.021*\"speaker\" + 0.020*\"option\" + 0.018*\"hai\" + 0.016*\"time\" + 0.015*\"show\"\n",
      "\n",
      "\n",
      "Topic: 5 \n",
      "Words: 0.047*\"qualiti\" + 0.025*\"rang\" + 0.025*\"price\" + 0.023*\"perform\" + 0.023*\"look\" + 0.022*\"mode\" + 0.020*\"sound\" + 0.017*\"game\" + 0.017*\"depth\" + 0.015*\"averag\"\n",
      "\n",
      "\n"
     ]
    }
   ],
   "source": [
    "for idx, topic in lda_model_2.print_topics(-1):\n",
    "    print(\"Topic: {} \\nWords: {}\".format(idx, topic ))\n",
    "    print(\"\\n\")"
   ]
  },
  {
   "cell_type": "code",
   "execution_count": 31,
   "id": "f5bae3c7",
   "metadata": {},
   "outputs": [
    {
     "name": "stdout",
     "output_type": "stream",
     "text": [
      "\n",
      "Coherence Score for II Model:  0.5110540365773346\n"
     ]
    }
   ],
   "source": [
    "coherence_model_lda_2 = CoherenceModel(model=lda_model_2, texts= review_noun_text, dictionary = dictionary, coherence='c_v')\n",
    "coherence_lda_2 = coherence_model_lda_2.get_coherence()\n",
    "\n",
    "print('\\nCoherence Score for II Model: ', coherence_lda_2)"
   ]
  },
  {
   "cell_type": "code",
   "execution_count": 84,
   "id": "1cc3bc5a",
   "metadata": {},
   "outputs": [],
   "source": [
    "topics = lda_model_2.show_topics(formatted= False )"
   ]
  },
  {
   "cell_type": "code",
   "execution_count": 97,
   "id": "1ce6d210",
   "metadata": {},
   "outputs": [],
   "source": [
    "index = []\n",
    "values = []\n",
    "for i in range(6):\n",
    "    index.append(str(\"Topic \")+ str(i+1))\n",
    "    k = dict(topics[i][1])\n",
    "    values.append(k.keys())\n",
    "    \n",
    "top_ten_words = pd.DataFrame(values,index)    "
   ]
  },
  {
   "cell_type": "code",
   "execution_count": 98,
   "id": "70ed1c90",
   "metadata": {},
   "outputs": [
    {
     "data": {
      "text/html": [
       "<div>\n",
       "<style scoped>\n",
       "    .dataframe tbody tr th:only-of-type {\n",
       "        vertical-align: middle;\n",
       "    }\n",
       "\n",
       "    .dataframe tbody tr th {\n",
       "        vertical-align: top;\n",
       "    }\n",
       "\n",
       "    .dataframe thead th {\n",
       "        text-align: right;\n",
       "    }\n",
       "</style>\n",
       "<table border=\"1\" class=\"dataframe\">\n",
       "  <thead>\n",
       "    <tr style=\"text-align: right;\">\n",
       "      <th></th>\n",
       "      <th>0</th>\n",
       "      <th>1</th>\n",
       "      <th>2</th>\n",
       "      <th>3</th>\n",
       "      <th>4</th>\n",
       "      <th>5</th>\n",
       "      <th>6</th>\n",
       "      <th>7</th>\n",
       "      <th>8</th>\n",
       "      <th>9</th>\n",
       "    </tr>\n",
       "  </thead>\n",
       "  <tbody>\n",
       "    <tr>\n",
       "      <th>Topic 1</th>\n",
       "      <td>charg</td>\n",
       "      <td>use</td>\n",
       "      <td>time</td>\n",
       "      <td>hour</td>\n",
       "      <td>day</td>\n",
       "      <td>drain</td>\n",
       "      <td>problem</td>\n",
       "      <td>get</td>\n",
       "      <td>hang</td>\n",
       "      <td>turbo</td>\n",
       "    </tr>\n",
       "    <tr>\n",
       "      <th>Topic 2</th>\n",
       "      <td>problem</td>\n",
       "      <td>lenovo</td>\n",
       "      <td>issu</td>\n",
       "      <td>price</td>\n",
       "      <td>amazon</td>\n",
       "      <td>perform</td>\n",
       "      <td>month</td>\n",
       "      <td>buy</td>\n",
       "      <td>servic</td>\n",
       "      <td>day</td>\n",
       "    </tr>\n",
       "    <tr>\n",
       "      <th>Topic 3</th>\n",
       "      <td>note</td>\n",
       "      <td>awesom</td>\n",
       "      <td>excel</td>\n",
       "      <td>lenovo</td>\n",
       "      <td>superb</td>\n",
       "      <td>backup</td>\n",
       "      <td>price</td>\n",
       "      <td>featur</td>\n",
       "      <td>compar</td>\n",
       "      <td>budget</td>\n",
       "    </tr>\n",
       "    <tr>\n",
       "      <th>Topic 4</th>\n",
       "      <td>money</td>\n",
       "      <td>return</td>\n",
       "      <td>wast</td>\n",
       "      <td>featur</td>\n",
       "      <td>charger</td>\n",
       "      <td>support</td>\n",
       "      <td>valu</td>\n",
       "      <td>cast</td>\n",
       "      <td>box</td>\n",
       "      <td>screen</td>\n",
       "    </tr>\n",
       "    <tr>\n",
       "      <th>Topic 5</th>\n",
       "      <td>call</td>\n",
       "      <td>network</td>\n",
       "      <td>record</td>\n",
       "      <td>app</td>\n",
       "      <td>sim</td>\n",
       "      <td>speaker</td>\n",
       "      <td>option</td>\n",
       "      <td>hai</td>\n",
       "      <td>time</td>\n",
       "      <td>show</td>\n",
       "    </tr>\n",
       "    <tr>\n",
       "      <th>Topic 6</th>\n",
       "      <td>qualiti</td>\n",
       "      <td>rang</td>\n",
       "      <td>price</td>\n",
       "      <td>perform</td>\n",
       "      <td>look</td>\n",
       "      <td>mode</td>\n",
       "      <td>sound</td>\n",
       "      <td>game</td>\n",
       "      <td>depth</td>\n",
       "      <td>averag</td>\n",
       "    </tr>\n",
       "  </tbody>\n",
       "</table>\n",
       "</div>"
      ],
      "text/plain": [
       "               0        1       2        3        4        5        6       7  \\\n",
       "Topic 1    charg      use    time     hour      day    drain  problem     get   \n",
       "Topic 2  problem   lenovo    issu    price   amazon  perform    month     buy   \n",
       "Topic 3     note   awesom   excel   lenovo   superb   backup    price  featur   \n",
       "Topic 4    money   return    wast   featur  charger  support     valu    cast   \n",
       "Topic 5     call  network  record      app      sim  speaker   option     hai   \n",
       "Topic 6  qualiti     rang   price  perform     look     mode    sound    game   \n",
       "\n",
       "              8       9  \n",
       "Topic 1    hang   turbo  \n",
       "Topic 2  servic     day  \n",
       "Topic 3  compar  budget  \n",
       "Topic 4     box  screen  \n",
       "Topic 5    time    show  \n",
       "Topic 6   depth  averag  "
      ]
     },
     "execution_count": 98,
     "metadata": {},
     "output_type": "execute_result"
    }
   ],
   "source": [
    "top_ten_words"
   ]
  },
  {
   "cell_type": "code",
   "execution_count": null,
   "id": "3d743c79",
   "metadata": {},
   "outputs": [],
   "source": []
  }
 ],
 "metadata": {
  "kernelspec": {
   "display_name": "Python 3 (ipykernel)",
   "language": "python",
   "name": "python3"
  },
  "language_info": {
   "codemirror_mode": {
    "name": "ipython",
    "version": 3
   },
   "file_extension": ".py",
   "mimetype": "text/x-python",
   "name": "python",
   "nbconvert_exporter": "python",
   "pygments_lexer": "ipython3",
   "version": "3.9.7"
  }
 },
 "nbformat": 4,
 "nbformat_minor": 5
}
